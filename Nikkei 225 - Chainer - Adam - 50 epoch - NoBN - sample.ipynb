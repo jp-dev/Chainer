{
 "cells": [
  {
   "cell_type": "code",
   "execution_count": 1,
   "metadata": {
    "collapsed": true
   },
   "outputs": [],
   "source": [
    "%matplotlib inline\n",
    "import numpy as np\n",
    "import pandas as pd\n",
    "import matplotlib.pyplot as plt"
   ]
  },
  {
   "cell_type": "code",
   "execution_count": 2,
   "metadata": {
    "collapsed": true
   },
   "outputs": [],
   "source": [
    "df = pd.read_csv('./data/n225-daily.csv')"
   ]
  },
  {
   "cell_type": "code",
   "execution_count": 3,
   "metadata": {},
   "outputs": [
    {
     "data": {
      "text/html": [
       "<div>\n",
       "<style>\n",
       "    .dataframe thead tr:only-child th {\n",
       "        text-align: right;\n",
       "    }\n",
       "\n",
       "    .dataframe thead th {\n",
       "        text-align: left;\n",
       "    }\n",
       "\n",
       "    .dataframe tbody tr th {\n",
       "        vertical-align: top;\n",
       "    }\n",
       "</style>\n",
       "<table border=\"1\" class=\"dataframe\">\n",
       "  <thead>\n",
       "    <tr style=\"text-align: right;\">\n",
       "      <th></th>\n",
       "      <th>HIGH</th>\n",
       "      <th>LOW</th>\n",
       "      <th>OPEN</th>\n",
       "      <th>VOLUME</th>\n",
       "      <th>CLOSE</th>\n",
       "    </tr>\n",
       "  </thead>\n",
       "  <tbody>\n",
       "    <tr>\n",
       "      <th>0</th>\n",
       "      <td>16089.13</td>\n",
       "      <td>15910.62</td>\n",
       "      <td>16088.54</td>\n",
       "      <td>867540000</td>\n",
       "      <td>15960.62</td>\n",
       "    </tr>\n",
       "    <tr>\n",
       "      <th>1</th>\n",
       "      <td>16156.78</td>\n",
       "      <td>15874.63</td>\n",
       "      <td>15955.76</td>\n",
       "      <td>869700000</td>\n",
       "      <td>15938.66</td>\n",
       "    </tr>\n",
       "    <tr>\n",
       "      <th>2</th>\n",
       "      <td>16005.09</td>\n",
       "      <td>15745.01</td>\n",
       "      <td>15953.08</td>\n",
       "      <td>879840000</td>\n",
       "      <td>15762.59</td>\n",
       "    </tr>\n",
       "    <tr>\n",
       "      <th>3</th>\n",
       "      <td>15946.42</td>\n",
       "      <td>15811.73</td>\n",
       "      <td>15881.92</td>\n",
       "      <td>773980000</td>\n",
       "      <td>15890.56</td>\n",
       "    </tr>\n",
       "    <tr>\n",
       "      <th>4</th>\n",
       "      <td>15962.93</td>\n",
       "      <td>15769.16</td>\n",
       "      <td>15929.90</td>\n",
       "      <td>955370000</td>\n",
       "      <td>15872.02</td>\n",
       "    </tr>\n",
       "  </tbody>\n",
       "</table>\n",
       "</div>"
      ],
      "text/plain": [
       "       HIGH       LOW      OPEN     VOLUME     CLOSE\n",
       "0  16089.13  15910.62  16088.54  867540000  15960.62\n",
       "1  16156.78  15874.63  15955.76  869700000  15938.66\n",
       "2  16005.09  15745.01  15953.08  879840000  15762.59\n",
       "3  15946.42  15811.73  15881.92  773980000  15890.56\n",
       "4  15962.93  15769.16  15929.90  955370000  15872.02"
      ]
     },
     "execution_count": 3,
     "metadata": {},
     "output_type": "execute_result"
    }
   ],
   "source": [
    "df.head()"
   ]
  },
  {
   "cell_type": "code",
   "execution_count": 4,
   "metadata": {
    "collapsed": true
   },
   "outputs": [],
   "source": [
    "x = df.iloc[:, :-1].values.astype('f')"
   ]
  },
  {
   "cell_type": "code",
   "execution_count": 5,
   "metadata": {
    "collapsed": true
   },
   "outputs": [],
   "source": [
    "t = df.iloc[:, -1].values.astype('f')"
   ]
  },
  {
   "cell_type": "code",
   "execution_count": 6,
   "metadata": {},
   "outputs": [
    {
     "data": {
      "text/plain": [
       "(3000, 4)"
      ]
     },
     "execution_count": 6,
     "metadata": {},
     "output_type": "execute_result"
    }
   ],
   "source": [
    "x.shape"
   ]
  },
  {
   "cell_type": "code",
   "execution_count": 7,
   "metadata": {},
   "outputs": [
    {
     "data": {
      "text/plain": [
       "(3000,)"
      ]
     },
     "execution_count": 7,
     "metadata": {},
     "output_type": "execute_result"
    }
   ],
   "source": [
    "t.shape"
   ]
  },
  {
   "cell_type": "code",
   "execution_count": 8,
   "metadata": {
    "collapsed": true
   },
   "outputs": [],
   "source": [
    "t = t.reshape(len(t), 1)"
   ]
  },
  {
   "cell_type": "code",
   "execution_count": 9,
   "metadata": {},
   "outputs": [
    {
     "data": {
      "text/plain": [
       "numpy.ndarray"
      ]
     },
     "execution_count": 9,
     "metadata": {},
     "output_type": "execute_result"
    }
   ],
   "source": [
    "type(x)"
   ]
  },
  {
   "cell_type": "code",
   "execution_count": 10,
   "metadata": {},
   "outputs": [
    {
     "data": {
      "text/plain": [
       "numpy.ndarray"
      ]
     },
     "execution_count": 10,
     "metadata": {},
     "output_type": "execute_result"
    }
   ],
   "source": [
    "type(t)"
   ]
  },
  {
   "cell_type": "code",
   "execution_count": 11,
   "metadata": {
    "collapsed": true
   },
   "outputs": [],
   "source": [
    "dataset = list(zip(x, t))"
   ]
  },
  {
   "cell_type": "code",
   "execution_count": 12,
   "metadata": {
    "collapsed": true
   },
   "outputs": [],
   "source": [
    "#dataset"
   ]
  },
  {
   "cell_type": "code",
   "execution_count": null,
   "metadata": {},
   "outputs": [],
   "source": [
    "import chainer\n",
    "import chainer.functions as F\n",
    "import chainer.links as L"
   ]
  },
  {
   "cell_type": "code",
   "execution_count": 14,
   "metadata": {},
   "outputs": [
    {
     "data": {
      "text/plain": [
       "2100"
      ]
     },
     "execution_count": 14,
     "metadata": {},
     "output_type": "execute_result"
    }
   ],
   "source": [
    "n_train = int(len(dataset)*0.7)\n",
    "n_train"
   ]
  },
  {
   "cell_type": "code",
   "execution_count": 15,
   "metadata": {
    "collapsed": true
   },
   "outputs": [],
   "source": [
    "train, test = chainer.datasets.split_dataset_random(dataset, n_train, seed=0)"
   ]
  },
  {
   "cell_type": "code",
   "execution_count": 16,
   "metadata": {},
   "outputs": [
    {
     "data": {
      "text/plain": [
       "2100"
      ]
     },
     "execution_count": 16,
     "metadata": {},
     "output_type": "execute_result"
    }
   ],
   "source": [
    "len(train)"
   ]
  },
  {
   "cell_type": "code",
   "execution_count": 17,
   "metadata": {},
   "outputs": [
    {
     "data": {
      "text/plain": [
       "900"
      ]
     },
     "execution_count": 17,
     "metadata": {},
     "output_type": "execute_result"
    }
   ],
   "source": [
    "len(test)"
   ]
  },
  {
   "cell_type": "markdown",
   "metadata": {},
   "source": [
    "## モデルの定義"
   ]
  },
  {
   "cell_type": "code",
   "execution_count": 18,
   "metadata": {
    "collapsed": true
   },
   "outputs": [],
   "source": [
    "class NN(chainer.Chain):\n",
    "    # モデルの構造\n",
    "    def __init__(self, n_mid_units=5, n_out=1):\n",
    "        super().__init__()\n",
    "        with self.init_scope():\n",
    "            self.fc1 = L.Linear(None, n_mid_units)\n",
    "            self.fc2 = L.Linear(None, n_out)  \n",
    "            \n",
    "            #self.bn = L.BatchNormalization(4)\n",
    "            \n",
    "    # 順伝播\n",
    "    def __call__(self, x):\n",
    "        #h = self.bn(x)\n",
    "        h = self.fc1(x)\n",
    "        h = F.relu(h)\n",
    "        h = self.fc2(h)\n",
    "        return h"
   ]
  },
  {
   "cell_type": "code",
   "execution_count": 19,
   "metadata": {
    "collapsed": true
   },
   "outputs": [],
   "source": [
    "np.random.seed(0)\n",
    "# インスタンス化\n",
    "nn = NN()"
   ]
  },
  {
   "cell_type": "code",
   "execution_count": 20,
   "metadata": {
    "collapsed": true
   },
   "outputs": [],
   "source": [
    "model = L.Classifier(nn, lossfun=F.mean_squared_error)\n",
    "model.compute_accuracy = False"
   ]
  },
  {
   "cell_type": "markdown",
   "metadata": {},
   "source": [
    "### 学習するための設定"
   ]
  },
  {
   "cell_type": "markdown",
   "metadata": {},
   "source": [
    "### Optimizerの設定"
   ]
  },
  {
   "cell_type": "code",
   "execution_count": 23,
   "metadata": {
    "collapsed": true
   },
   "outputs": [],
   "source": [
    "optimizer = chainer.optimizers.Adam()"
   ]
  },
  {
   "cell_type": "code",
   "execution_count": 24,
   "metadata": {},
   "outputs": [
    {
     "data": {
      "text/plain": [
       "<chainer.optimizers.adam.Adam at 0xb1ded6be0>"
      ]
     },
     "execution_count": 24,
     "metadata": {},
     "output_type": "execute_result"
    }
   ],
   "source": [
    "optimizer.setup(model)"
   ]
  },
  {
   "cell_type": "markdown",
   "metadata": {},
   "source": [
    "### Iteratorの設定"
   ]
  },
  {
   "cell_type": "code",
   "execution_count": 25,
   "metadata": {
    "collapsed": true
   },
   "outputs": [],
   "source": [
    "batchsize = 10"
   ]
  },
  {
   "cell_type": "code",
   "execution_count": 26,
   "metadata": {
    "collapsed": true
   },
   "outputs": [],
   "source": [
    "train_iter = chainer.iterators.SerialIterator(train, batchsize)\n",
    "test_iter = chainer.iterators.SerialIterator(test, batchsize, repeat=False, shuffle=False)"
   ]
  },
  {
   "cell_type": "markdown",
   "metadata": {},
   "source": [
    "### Updaterの設定\n",
    "- CPU = -1\n",
    "- GPU = 0"
   ]
  },
  {
   "cell_type": "code",
   "execution_count": 27,
   "metadata": {
    "collapsed": true
   },
   "outputs": [],
   "source": [
    "from chainer import training"
   ]
  },
  {
   "cell_type": "code",
   "execution_count": 28,
   "metadata": {
    "collapsed": true
   },
   "outputs": [],
   "source": [
    "updater = training.StandardUpdater(train_iter, optimizer, device=-1)"
   ]
  },
  {
   "cell_type": "markdown",
   "metadata": {},
   "source": [
    "### TrainerとExtensionsの設定"
   ]
  },
  {
   "cell_type": "code",
   "execution_count": 29,
   "metadata": {
    "collapsed": true
   },
   "outputs": [],
   "source": [
    "from chainer.training import extensions"
   ]
  },
  {
   "cell_type": "code",
   "execution_count": 30,
   "metadata": {
    "collapsed": true
   },
   "outputs": [],
   "source": [
    "# エポックの数\n",
    "epoch = 50"
   ]
  },
  {
   "cell_type": "code",
   "execution_count": 31,
   "metadata": {
    "collapsed": true
   },
   "outputs": [],
   "source": [
    "# trainerの宣言\n",
    "trainer = training.Trainer(updater, (epoch, 'epoch'), out='result/n225-adam-50ep-noBn')\n",
    "\n",
    "# 検証データで評価\n",
    "trainer.extend(extensions.Evaluator(test_iter, model, device=-1))\n",
    "\n",
    "trainer.extend(extensions.LogReport(trigger=(1, 'epoch')))\n",
    "\n",
    "# 1エポックごと（trigger）にtrainデータに対するloss・accuracyとtestデータに対するloss・accuracy,経過時間出力します。\n",
    "trainer.extend(extensions.PrintReport(['epoch', 'main/loss', 'validation/main/loss', 'elapsed_time']), trigger=(1, 'epoch'))"
   ]
  },
  {
   "cell_type": "markdown",
   "metadata": {},
   "source": [
    "## 学習の実行"
   ]
  },
  {
   "cell_type": "code",
   "execution_count": 32,
   "metadata": {},
   "outputs": [
    {
     "name": "stdout",
     "output_type": "stream",
     "text": [
      "epoch       main/loss   validation/main/loss  elapsed_time\n",
      "\u001b[J1           3.57413e+15  7.98493e+14           0.311497      \n",
      "\u001b[J2           3.95604e+14  1.61002e+14           0.630572      \n",
      "\u001b[J3           9.6795e+13  4.98535e+13           0.949797      \n",
      "\u001b[J4           3.25737e+13  1.84271e+13           1.26779       \n",
      "\u001b[J5           1.23245e+13  7.08546e+12           1.58809       \n",
      "\u001b[J6           4.70554e+12  2.62659e+12           1.91378       \n",
      "\u001b[J7           1.69084e+12  8.97253e+11           2.23167       \n",
      "\u001b[J8           5.46256e+11  2.65846e+11           2.54851       \n",
      "\u001b[J9           1.53038e+11  6.79263e+10           2.868         \n",
      "\u001b[J10          3.63286e+10  1.43964e+10           3.18437       \n",
      "\u001b[J11          7.17103e+09  2.54092e+09           3.50242       \n",
      "\u001b[J12          1.18502e+09  3.98717e+08           3.82158       \n",
      "\u001b[J13          2.55818e+08  2.31489e+08           4.1411        \n",
      "\u001b[J14          2.31866e+08  2.31489e+08           4.46151       \n",
      "\u001b[J15          2.31866e+08  2.31489e+08           4.77987       \n",
      "\u001b[J16          2.31866e+08  2.31489e+08           5.10018       \n",
      "\u001b[J17          2.31866e+08  2.31489e+08           5.41958       \n",
      "\u001b[J18          2.31866e+08  2.31489e+08           5.73824       \n",
      "\u001b[J19          2.31866e+08  2.31489e+08           6.05433       \n",
      "\u001b[J20          2.31866e+08  2.31489e+08           6.37333       \n",
      "\u001b[J21          2.31866e+08  2.31489e+08           6.691         \n",
      "\u001b[J22          2.31866e+08  2.31489e+08           7.01139       \n",
      "\u001b[J23          2.31866e+08  2.31489e+08           7.3313        \n",
      "\u001b[J24          2.31866e+08  2.31489e+08           7.65154       \n",
      "\u001b[J25          2.31866e+08  2.31489e+08           7.97134       \n",
      "\u001b[J26          2.31866e+08  2.31489e+08           8.29106       \n",
      "\u001b[J27          2.31866e+08  2.31489e+08           8.61325       \n",
      "\u001b[J28          2.31866e+08  2.31489e+08           8.93287       \n",
      "\u001b[J29          2.31866e+08  2.31489e+08           9.24508       \n",
      "\u001b[J30          2.31866e+08  2.31489e+08           9.56477       \n",
      "\u001b[J31          2.31866e+08  2.31489e+08           9.88428       \n",
      "\u001b[J32          2.31866e+08  2.31488e+08           10.2031       \n",
      "\u001b[J33          2.31866e+08  2.31488e+08           10.5234       \n",
      "\u001b[J34          2.31865e+08  2.31488e+08           10.8425       \n",
      "\u001b[J35          2.31865e+08  2.31488e+08           11.161        \n",
      "\u001b[J36          2.31865e+08  2.31488e+08           11.4789       \n",
      "\u001b[J37          2.31865e+08  2.31488e+08           11.8007       \n",
      "\u001b[J38          2.31865e+08  2.31488e+08           12.1198       \n",
      "\u001b[J39          2.31865e+08  2.31488e+08           12.4399       \n",
      "\u001b[J40          2.31865e+08  2.31487e+08           12.7616       \n",
      "\u001b[J41          2.31864e+08  2.31487e+08           13.0827       \n",
      "\u001b[J42          2.31864e+08  2.31487e+08           13.4011       \n",
      "\u001b[J43          2.31864e+08  2.31487e+08           13.7225       \n",
      "\u001b[J44          2.31864e+08  2.31486e+08           14.0462       \n",
      "\u001b[J45          2.31863e+08  2.31486e+08           14.3745       \n",
      "\u001b[J46          2.31863e+08  2.31486e+08           14.711        \n",
      "\u001b[J47          2.31863e+08  2.31485e+08           15.0347       \n",
      "\u001b[J48          2.31862e+08  2.31485e+08           15.3542       \n",
      "\u001b[J49          2.31862e+08  2.31484e+08           15.6796       \n",
      "\u001b[J50          2.31861e+08  2.31484e+08           15.997        \n"
     ]
    }
   ],
   "source": [
    "trainer.run()"
   ]
  },
  {
   "cell_type": "markdown",
   "metadata": {},
   "source": [
    "## 結果の確認"
   ]
  },
  {
   "cell_type": "code",
   "execution_count": 33,
   "metadata": {
    "collapsed": true
   },
   "outputs": [],
   "source": [
    "import json"
   ]
  },
  {
   "cell_type": "code",
   "execution_count": 34,
   "metadata": {
    "collapsed": true
   },
   "outputs": [],
   "source": [
    "with open('result/n225-adam-50ep-noBn/log') as f:\n",
    "    logs = json.load(f)\n",
    "    results = pd.DataFrame(logs)"
   ]
  },
  {
   "cell_type": "code",
   "execution_count": 35,
   "metadata": {},
   "outputs": [
    {
     "data": {
      "text/html": [
       "<div>\n",
       "<style>\n",
       "    .dataframe thead tr:only-child th {\n",
       "        text-align: right;\n",
       "    }\n",
       "\n",
       "    .dataframe thead th {\n",
       "        text-align: left;\n",
       "    }\n",
       "\n",
       "    .dataframe tbody tr th {\n",
       "        vertical-align: top;\n",
       "    }\n",
       "</style>\n",
       "<table border=\"1\" class=\"dataframe\">\n",
       "  <thead>\n",
       "    <tr style=\"text-align: right;\">\n",
       "      <th></th>\n",
       "      <th>elapsed_time</th>\n",
       "      <th>epoch</th>\n",
       "      <th>iteration</th>\n",
       "      <th>main/loss</th>\n",
       "      <th>validation/main/loss</th>\n",
       "    </tr>\n",
       "  </thead>\n",
       "  <tbody>\n",
       "    <tr>\n",
       "      <th>0</th>\n",
       "      <td>0.311497</td>\n",
       "      <td>1</td>\n",
       "      <td>210</td>\n",
       "      <td>3.574126e+15</td>\n",
       "      <td>7.984928e+14</td>\n",
       "    </tr>\n",
       "    <tr>\n",
       "      <th>1</th>\n",
       "      <td>0.630572</td>\n",
       "      <td>2</td>\n",
       "      <td>420</td>\n",
       "      <td>3.956041e+14</td>\n",
       "      <td>1.610020e+14</td>\n",
       "    </tr>\n",
       "    <tr>\n",
       "      <th>2</th>\n",
       "      <td>0.949797</td>\n",
       "      <td>3</td>\n",
       "      <td>630</td>\n",
       "      <td>9.679501e+13</td>\n",
       "      <td>4.985348e+13</td>\n",
       "    </tr>\n",
       "    <tr>\n",
       "      <th>3</th>\n",
       "      <td>1.267786</td>\n",
       "      <td>4</td>\n",
       "      <td>840</td>\n",
       "      <td>3.257371e+13</td>\n",
       "      <td>1.842713e+13</td>\n",
       "    </tr>\n",
       "    <tr>\n",
       "      <th>4</th>\n",
       "      <td>1.588087</td>\n",
       "      <td>5</td>\n",
       "      <td>1050</td>\n",
       "      <td>1.232446e+13</td>\n",
       "      <td>7.085458e+12</td>\n",
       "    </tr>\n",
       "    <tr>\n",
       "      <th>5</th>\n",
       "      <td>1.913782</td>\n",
       "      <td>6</td>\n",
       "      <td>1260</td>\n",
       "      <td>4.705536e+12</td>\n",
       "      <td>2.626593e+12</td>\n",
       "    </tr>\n",
       "    <tr>\n",
       "      <th>6</th>\n",
       "      <td>2.231665</td>\n",
       "      <td>7</td>\n",
       "      <td>1470</td>\n",
       "      <td>1.690844e+12</td>\n",
       "      <td>8.972531e+11</td>\n",
       "    </tr>\n",
       "    <tr>\n",
       "      <th>7</th>\n",
       "      <td>2.548507</td>\n",
       "      <td>8</td>\n",
       "      <td>1680</td>\n",
       "      <td>5.462556e+11</td>\n",
       "      <td>2.658456e+11</td>\n",
       "    </tr>\n",
       "    <tr>\n",
       "      <th>8</th>\n",
       "      <td>2.868002</td>\n",
       "      <td>9</td>\n",
       "      <td>1890</td>\n",
       "      <td>1.530383e+11</td>\n",
       "      <td>6.792630e+10</td>\n",
       "    </tr>\n",
       "    <tr>\n",
       "      <th>9</th>\n",
       "      <td>3.184371</td>\n",
       "      <td>10</td>\n",
       "      <td>2100</td>\n",
       "      <td>3.632863e+10</td>\n",
       "      <td>1.439639e+10</td>\n",
       "    </tr>\n",
       "  </tbody>\n",
       "</table>\n",
       "</div>"
      ],
      "text/plain": [
       "   elapsed_time  epoch  iteration     main/loss  validation/main/loss\n",
       "0      0.311497      1        210  3.574126e+15          7.984928e+14\n",
       "1      0.630572      2        420  3.956041e+14          1.610020e+14\n",
       "2      0.949797      3        630  9.679501e+13          4.985348e+13\n",
       "3      1.267786      4        840  3.257371e+13          1.842713e+13\n",
       "4      1.588087      5       1050  1.232446e+13          7.085458e+12\n",
       "5      1.913782      6       1260  4.705536e+12          2.626593e+12\n",
       "6      2.231665      7       1470  1.690844e+12          8.972531e+11\n",
       "7      2.548507      8       1680  5.462556e+11          2.658456e+11\n",
       "8      2.868002      9       1890  1.530383e+11          6.792630e+10\n",
       "9      3.184371     10       2100  3.632863e+10          1.439639e+10"
      ]
     },
     "execution_count": 35,
     "metadata": {},
     "output_type": "execute_result"
    }
   ],
   "source": [
    "results.head(10)"
   ]
  },
  {
   "cell_type": "code",
   "execution_count": 36,
   "metadata": {},
   "outputs": [
    {
     "data": {
      "text/plain": [
       "<matplotlib.axes._subplots.AxesSubplot at 0xb1ded9b70>"
      ]
     },
     "execution_count": 36,
     "metadata": {},
     "output_type": "execute_result"
    },
    {
     "data": {
      "image/png": "[encoded data removed]",
      "text/plain": [
       "<matplotlib.figure.Figure at 0xb1ded9588>"
      ]
     },
     "metadata": {},
     "output_type": "display_data"
    }
   ],
   "source": [
    "results[['main/loss', 'validation/main/loss']].plot()"
   ]
  },
  {
   "cell_type": "code",
   "execution_count": 37,
   "metadata": {},
   "outputs": [
    {
     "data": {
      "text/plain": [
       "231483839.46666667"
      ]
     },
     "execution_count": 37,
     "metadata": {},
     "output_type": "execute_result"
    }
   ],
   "source": [
    "loss = results['validation/main/loss'].values[-1]\n",
    "loss"
   ]
  },
  {
   "cell_type": "code",
   "execution_count": 38,
   "metadata": {
    "collapsed": true
   },
   "outputs": [],
   "source": [
    "import math"
   ]
  },
  {
   "cell_type": "code",
   "execution_count": 39,
   "metadata": {},
   "outputs": [
    {
     "data": {
      "text/plain": [
       "15214.592977357845"
      ]
     },
     "execution_count": 39,
     "metadata": {},
     "output_type": "execute_result"
    }
   ],
   "source": [
    "math.sqrt(loss)"
   ]
  }
 ],
 "metadata": {
  "kernelspec": {
   "display_name": "Python 3",
   "language": "python",
   "name": "python3"
  },
  "language_info": {
   "codemirror_mode": {
    "name": "ipython",
    "version": 3
   },
   "file_extension": ".py",
   "mimetype": "text/x-python",
   "name": "python",
   "nbconvert_exporter": "python",
   "pygments_lexer": "ipython3",
   "version": "3.6.2"
  }
 },
 "nbformat": 4,
 "nbformat_minor": 2
}
