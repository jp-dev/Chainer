{
 "cells": [
  {
   "cell_type": "code",
   "execution_count": 1,
   "metadata": {
    "collapsed": true
   },
   "outputs": [],
   "source": [
    "%matplotlib inline\n",
    "import numpy as np\n",
    "import pandas as pd\n",
    "import matplotlib.pyplot as plt"
   ]
  },
  {
   "cell_type": "code",
   "execution_count": 2,
   "metadata": {
    "collapsed": true
   },
   "outputs": [],
   "source": [
    "df = pd.read_csv('./data/n225-daily.csv')"
   ]
  },
  {
   "cell_type": "code",
   "execution_count": 3,
   "metadata": {},
   "outputs": [
    {
     "data": {
      "text/html": [
       "<div>\n",
       "<style>\n",
       "    .dataframe thead tr:only-child th {\n",
       "        text-align: right;\n",
       "    }\n",
       "\n",
       "    .dataframe thead th {\n",
       "        text-align: left;\n",
       "    }\n",
       "\n",
       "    .dataframe tbody tr th {\n",
       "        vertical-align: top;\n",
       "    }\n",
       "</style>\n",
       "<table border=\"1\" class=\"dataframe\">\n",
       "  <thead>\n",
       "    <tr style=\"text-align: right;\">\n",
       "      <th></th>\n",
       "      <th>HIGH</th>\n",
       "      <th>LOW</th>\n",
       "      <th>OPEN</th>\n",
       "      <th>VOLUME</th>\n",
       "      <th>CLOSE</th>\n",
       "    </tr>\n",
       "  </thead>\n",
       "  <tbody>\n",
       "    <tr>\n",
       "      <th>0</th>\n",
       "      <td>16089.13</td>\n",
       "      <td>15910.62</td>\n",
       "      <td>16088.54</td>\n",
       "      <td>867540000</td>\n",
       "      <td>15960.62</td>\n",
       "    </tr>\n",
       "    <tr>\n",
       "      <th>1</th>\n",
       "      <td>16156.78</td>\n",
       "      <td>15874.63</td>\n",
       "      <td>15955.76</td>\n",
       "      <td>869700000</td>\n",
       "      <td>15938.66</td>\n",
       "    </tr>\n",
       "    <tr>\n",
       "      <th>2</th>\n",
       "      <td>16005.09</td>\n",
       "      <td>15745.01</td>\n",
       "      <td>15953.08</td>\n",
       "      <td>879840000</td>\n",
       "      <td>15762.59</td>\n",
       "    </tr>\n",
       "    <tr>\n",
       "      <th>3</th>\n",
       "      <td>15946.42</td>\n",
       "      <td>15811.73</td>\n",
       "      <td>15881.92</td>\n",
       "      <td>773980000</td>\n",
       "      <td>15890.56</td>\n",
       "    </tr>\n",
       "    <tr>\n",
       "      <th>4</th>\n",
       "      <td>15962.93</td>\n",
       "      <td>15769.16</td>\n",
       "      <td>15929.90</td>\n",
       "      <td>955370000</td>\n",
       "      <td>15872.02</td>\n",
       "    </tr>\n",
       "  </tbody>\n",
       "</table>\n",
       "</div>"
      ],
      "text/plain": [
       "       HIGH       LOW      OPEN     VOLUME     CLOSE\n",
       "0  16089.13  15910.62  16088.54  867540000  15960.62\n",
       "1  16156.78  15874.63  15955.76  869700000  15938.66\n",
       "2  16005.09  15745.01  15953.08  879840000  15762.59\n",
       "3  15946.42  15811.73  15881.92  773980000  15890.56\n",
       "4  15962.93  15769.16  15929.90  955370000  15872.02"
      ]
     },
     "execution_count": 3,
     "metadata": {},
     "output_type": "execute_result"
    }
   ],
   "source": [
    "df.head()"
   ]
  },
  {
   "cell_type": "code",
   "execution_count": 4,
   "metadata": {
    "collapsed": true
   },
   "outputs": [],
   "source": [
    "x = df.iloc[:, :-1].values.astype('f')"
   ]
  },
  {
   "cell_type": "code",
   "execution_count": 5,
   "metadata": {
    "collapsed": true
   },
   "outputs": [],
   "source": [
    "t = df.iloc[:, -1].values.astype('f')"
   ]
  },
  {
   "cell_type": "code",
   "execution_count": 6,
   "metadata": {},
   "outputs": [
    {
     "data": {
      "text/plain": [
       "(3000, 4)"
      ]
     },
     "execution_count": 6,
     "metadata": {},
     "output_type": "execute_result"
    }
   ],
   "source": [
    "x.shape"
   ]
  },
  {
   "cell_type": "code",
   "execution_count": 7,
   "metadata": {},
   "outputs": [
    {
     "data": {
      "text/plain": [
       "(3000,)"
      ]
     },
     "execution_count": 7,
     "metadata": {},
     "output_type": "execute_result"
    }
   ],
   "source": [
    "t.shape"
   ]
  },
  {
   "cell_type": "code",
   "execution_count": 8,
   "metadata": {
    "collapsed": true
   },
   "outputs": [],
   "source": [
    "t = t.reshape(len(t), 1)"
   ]
  },
  {
   "cell_type": "code",
   "execution_count": 9,
   "metadata": {},
   "outputs": [
    {
     "data": {
      "text/plain": [
       "numpy.ndarray"
      ]
     },
     "execution_count": 9,
     "metadata": {},
     "output_type": "execute_result"
    }
   ],
   "source": [
    "type(x)"
   ]
  },
  {
   "cell_type": "code",
   "execution_count": 10,
   "metadata": {},
   "outputs": [
    {
     "data": {
      "text/plain": [
       "numpy.ndarray"
      ]
     },
     "execution_count": 10,
     "metadata": {},
     "output_type": "execute_result"
    }
   ],
   "source": [
    "type(t)"
   ]
  },
  {
   "cell_type": "code",
   "execution_count": 11,
   "metadata": {
    "collapsed": true
   },
   "outputs": [],
   "source": [
    "dataset = list(zip(x, t))"
   ]
  },
  {
   "cell_type": "code",
   "execution_count": 12,
   "metadata": {
    "collapsed": true
   },
   "outputs": [],
   "source": [
    "#dataset"
   ]
  },
  {
   "cell_type": "code",
   "execution_count": null,
   "metadata": {},
   "outputs": [],
   "source": [
    "import chainer\n",
    "import chainer.functions as F\n",
    "import chainer.links as L"
   ]
  },
  {
   "cell_type": "code",
   "execution_count": 14,
   "metadata": {},
   "outputs": [
    {
     "data": {
      "text/plain": [
       "2100"
      ]
     },
     "execution_count": 14,
     "metadata": {},
     "output_type": "execute_result"
    }
   ],
   "source": [
    "n_train = int(len(dataset)*0.7)\n",
    "n_train"
   ]
  },
  {
   "cell_type": "code",
   "execution_count": 15,
   "metadata": {
    "collapsed": true
   },
   "outputs": [],
   "source": [
    "train, test = chainer.datasets.split_dataset_random(dataset, n_train, seed=0)"
   ]
  },
  {
   "cell_type": "code",
   "execution_count": 16,
   "metadata": {},
   "outputs": [
    {
     "data": {
      "text/plain": [
       "2100"
      ]
     },
     "execution_count": 16,
     "metadata": {},
     "output_type": "execute_result"
    }
   ],
   "source": [
    "len(train)"
   ]
  },
  {
   "cell_type": "code",
   "execution_count": 17,
   "metadata": {},
   "outputs": [
    {
     "data": {
      "text/plain": [
       "900"
      ]
     },
     "execution_count": 17,
     "metadata": {},
     "output_type": "execute_result"
    }
   ],
   "source": [
    "len(test)"
   ]
  },
  {
   "cell_type": "markdown",
   "metadata": {},
   "source": [
    "## モデルの定義 (Model Definition)"
   ]
  },
  {
   "cell_type": "code",
   "execution_count": 18,
   "metadata": {
    "collapsed": true
   },
   "outputs": [],
   "source": [
    "class NN(chainer.Chain):\n",
    "    # モデルの構造\n",
    "    def __init__(self, n_mid_units=5, n_out=1):\n",
    "        super().__init__()\n",
    "        with self.init_scope():\n",
    "            self.fc1 = L.Linear(None, n_mid_units)\n",
    "            self.fc2 = L.Linear(None, n_out)  \n",
    "            \n",
    "            #self.bn = L.BatchNormalization(4)\n",
    "            \n",
    "    # 順伝播\n",
    "    def __call__(self, x):\n",
    "        #h = self.bn(x)\n",
    "        h = self.fc1(x)\n",
    "        h = F.relu(h)\n",
    "        h = self.fc2(h)\n",
    "        return h"
   ]
  },
  {
   "cell_type": "code",
   "execution_count": 19,
   "metadata": {
    "collapsed": true
   },
   "outputs": [],
   "source": [
    "np.random.seed(0)\n",
    "# インスタンス化\n",
    "nn = NN()"
   ]
  },
  {
   "cell_type": "code",
   "execution_count": 20,
   "metadata": {
    "collapsed": true
   },
   "outputs": [],
   "source": [
    "model = L.Classifier(nn, lossfun=F.mean_squared_error)\n",
    "model.compute_accuracy = False"
   ]
  },
  {
   "cell_type": "markdown",
   "metadata": {},
   "source": [
    "### Learning configuration"
   ]
  },
  {
   "cell_type": "markdown",
   "metadata": {},
   "source": [
    "### Optimizer Settings"
   ]
  },
  {
   "cell_type": "code",
   "execution_count": 23,
   "metadata": {
    "collapsed": true
   },
   "outputs": [],
   "source": [
    "optimizer = chainer.optimizers.SGD()"
   ]
  },
  {
   "cell_type": "code",
   "execution_count": 24,
   "metadata": {},
   "outputs": [
    {
     "data": {
      "text/plain": [
       "<chainer.optimizers.sgd.SGD at 0xb1dde1d68>"
      ]
     },
     "execution_count": 24,
     "metadata": {},
     "output_type": "execute_result"
    }
   ],
   "source": [
    "optimizer.setup(model)"
   ]
  },
  {
   "cell_type": "markdown",
   "metadata": {},
   "source": [
    "### Iterator Settings"
   ]
  },
  {
   "cell_type": "code",
   "execution_count": 25,
   "metadata": {
    "collapsed": true
   },
   "outputs": [],
   "source": [
    "batchsize = 10"
   ]
  },
  {
   "cell_type": "code",
   "execution_count": 26,
   "metadata": {
    "collapsed": true
   },
   "outputs": [],
   "source": [
    "train_iter = chainer.iterators.SerialIterator(train, batchsize)\n",
    "test_iter = chainer.iterators.SerialIterator(test, batchsize, repeat=False, shuffle=False)"
   ]
  },
  {
   "cell_type": "markdown",
   "metadata": {},
   "source": [
    "### Updater Settings\n",
    "- CPU = -1\n",
    "- GPU = 0"
   ]
  },
  {
   "cell_type": "code",
   "execution_count": 27,
   "metadata": {
    "collapsed": true
   },
   "outputs": [],
   "source": [
    "from chainer import training"
   ]
  },
  {
   "cell_type": "code",
   "execution_count": 28,
   "metadata": {
    "collapsed": true
   },
   "outputs": [],
   "source": [
    "updater = training.StandardUpdater(train_iter, optimizer, device=-1)"
   ]
  },
  {
   "cell_type": "markdown",
   "metadata": {},
   "source": [
    "### Trainer Extensions Settings"
   ]
  },
  {
   "cell_type": "code",
   "execution_count": 29,
   "metadata": {
    "collapsed": true
   },
   "outputs": [],
   "source": [
    "from chainer.training import extensions"
   ]
  },
  {
   "cell_type": "code",
   "execution_count": 30,
   "metadata": {
    "collapsed": true
   },
   "outputs": [],
   "source": [
    "# エポックの数\n",
    "epoch = 50"
   ]
  },
  {
   "cell_type": "code",
   "execution_count": 31,
   "metadata": {
    "collapsed": true
   },
   "outputs": [],
   "source": [
    "# trainerの宣言\n",
    "trainer = training.Trainer(updater, (epoch, 'epoch'), out='result/n225-sgd-50ep-noBn')\n",
    "\n",
    "# 検証データで評価\n",
    "trainer.extend(extensions.Evaluator(test_iter, model, device=-1))\n",
    "\n",
    "trainer.extend(extensions.LogReport(trigger=(1, 'epoch')))\n",
    "\n",
    "# 1エポックごと（trigger）にtrainデータに対するloss・accuracyとtestデータに対するloss・accuracy,経過時間出力します。\n",
    "trainer.extend(extensions.PrintReport(['epoch', 'main/loss', 'validation/main/loss', 'elapsed_time']), trigger=(1, 'epoch'))"
   ]
  },
  {
   "cell_type": "markdown",
   "metadata": {},
   "source": [
    "## 学習の実行"
   ]
  },
  {
   "cell_type": "code",
   "execution_count": 32,
   "metadata": {},
   "outputs": [
    {
     "name": "stdout",
     "output_type": "stream",
     "text": [
      "epoch       main/loss   validation/main/loss  elapsed_time\n",
      "\u001b[J1           7.14337e+13  1.0483e+09            0.30577       \n",
      "\u001b[J2           1.4242e+08  2.06969e+07           0.61604       \n",
      "\u001b[J3           2.01191e+07  2.05219e+07           0.910633      \n",
      "\u001b[J4           2.01019e+07  2.05199e+07           1.19997       \n",
      "\u001b[J5           2.01017e+07  2.05214e+07           1.50931       \n",
      "\u001b[J6           2.0097e+07  2.05262e+07           1.80174       \n",
      "\u001b[J7           2.00838e+07  2.0537e+07            2.09003       \n",
      "\u001b[J8           2.00964e+07  2.05211e+07           2.38679       \n",
      "\u001b[J9           2.00935e+07  2.05197e+07           2.68198       \n",
      "\u001b[J10          2.00915e+07  2.0543e+07            2.98886       \n",
      "\u001b[J11          2.00983e+07  2.05227e+07           3.27752       \n",
      "\u001b[J12          2.0088e+07  2.05198e+07           3.58254       \n",
      "\u001b[J13          2.01003e+07  2.05197e+07           3.88773       \n",
      "\u001b[J14          2.00897e+07  2.05201e+07           4.19298       \n",
      "\u001b[J15          2.00956e+07  2.05198e+07           4.49135       \n",
      "\u001b[J16          2.00979e+07  2.05299e+07           4.78992       \n",
      "\u001b[J17          2.01054e+07  2.05198e+07           5.07967       \n",
      "\u001b[J18          2.01013e+07  2.05198e+07           5.37015       \n",
      "\u001b[J19          2.00845e+07  2.05435e+07           5.66725       \n",
      "\u001b[J20          2.01028e+07  2.0524e+07            5.9661        \n",
      "\u001b[J21          2.00976e+07  2.05266e+07           6.24997       \n",
      "\u001b[J22          2.00848e+07  2.05324e+07           6.54684       \n",
      "\u001b[J23          2.00923e+07  2.05246e+07           6.8446        \n",
      "\u001b[J24          2.01008e+07  2.05244e+07           7.13614       \n",
      "\u001b[J25          2.01012e+07  2.05201e+07           7.431         \n",
      "\u001b[J26          2.00913e+07  2.05257e+07           7.71938       \n",
      "\u001b[J27          2.00901e+07  2.05211e+07           8.0108        \n",
      "\u001b[J28          2.00772e+07  2.05497e+07           8.29444       \n",
      "\u001b[J29          2.01084e+07  2.05222e+07           8.58559       \n",
      "\u001b[J30          2.00849e+07  2.05758e+07           8.87673       \n",
      "\u001b[J31          2.00991e+07  2.05281e+07           9.16606       \n",
      "\u001b[J32          2.00893e+07  2.05428e+07           9.4545        \n",
      "\u001b[J33          2.00961e+07  2.05372e+07           9.74356       \n",
      "\u001b[J34          2.01068e+07  2.05218e+07           10.0339       \n",
      "\u001b[J35          2.01005e+07  2.05255e+07           10.3217       \n",
      "\u001b[J36          2.00842e+07  2.05694e+07           10.6102       \n",
      "\u001b[J37          2.00949e+07  2.05235e+07           10.8987       \n",
      "\u001b[J38          2.00808e+07  2.05504e+07           11.1876       \n",
      "\u001b[J39          2.00965e+07  2.05453e+07           11.4762       \n",
      "\u001b[J40          2.0101e+07  2.05371e+07           11.7662       \n",
      "\u001b[J41          2.00907e+07  2.05224e+07           12.0548       \n",
      "\u001b[J42          2.00635e+07  2.05655e+07           12.3444       \n",
      "\u001b[J43          2.00792e+07  2.06133e+07           12.6355       \n",
      "\u001b[J44          2.01069e+07  2.05374e+07           12.9247       \n",
      "\u001b[J45          2.01002e+07  2.05274e+07           13.2129       \n",
      "\u001b[J46          2.00942e+07  2.05233e+07           13.5025       \n",
      "\u001b[J47          2.00959e+07  2.05324e+07           13.8049       \n",
      "\u001b[J48          2.00951e+07  2.05315e+07           14.1121       \n",
      "\u001b[J49          2.00983e+07  2.053e+07             14.3972       \n",
      "\u001b[J50          2.0102e+07  2.05268e+07           14.6909       \n"
     ]
    }
   ],
   "source": [
    "trainer.run()"
   ]
  },
  {
   "cell_type": "markdown",
   "metadata": {},
   "source": [
    "## Confirm results"
   ]
  },
  {
   "cell_type": "code",
   "execution_count": 33,
   "metadata": {
    "collapsed": true
   },
   "outputs": [],
   "source": [
    "import json"
   ]
  },
  {
   "cell_type": "code",
   "execution_count": 34,
   "metadata": {
    "collapsed": true
   },
   "outputs": [],
   "source": [
    "with open('result/n225-sgd-50ep-noBn/log') as f:\n",
    "    logs = json.load(f)\n",
    "    results = pd.DataFrame(logs)"
   ]
  },
  {
   "cell_type": "code",
   "execution_count": 35,
   "metadata": {},
   "outputs": [
    {
     "data": {
      "text/html": [
       "<div>\n",
       "<style>\n",
       "    .dataframe thead tr:only-child th {\n",
       "        text-align: right;\n",
       "    }\n",
       "\n",
       "    .dataframe thead th {\n",
       "        text-align: left;\n",
       "    }\n",
       "\n",
       "    .dataframe tbody tr th {\n",
       "        vertical-align: top;\n",
       "    }\n",
       "</style>\n",
       "<table border=\"1\" class=\"dataframe\">\n",
       "  <thead>\n",
       "    <tr style=\"text-align: right;\">\n",
       "      <th></th>\n",
       "      <th>elapsed_time</th>\n",
       "      <th>epoch</th>\n",
       "      <th>iteration</th>\n",
       "      <th>main/loss</th>\n",
       "      <th>validation/main/loss</th>\n",
       "    </tr>\n",
       "  </thead>\n",
       "  <tbody>\n",
       "    <tr>\n",
       "      <th>0</th>\n",
       "      <td>0.305770</td>\n",
       "      <td>1</td>\n",
       "      <td>210</td>\n",
       "      <td>7.143365e+13</td>\n",
       "      <td>1.048299e+09</td>\n",
       "    </tr>\n",
       "    <tr>\n",
       "      <th>1</th>\n",
       "      <td>0.616040</td>\n",
       "      <td>2</td>\n",
       "      <td>420</td>\n",
       "      <td>1.424199e+08</td>\n",
       "      <td>2.069691e+07</td>\n",
       "    </tr>\n",
       "    <tr>\n",
       "      <th>2</th>\n",
       "      <td>0.910633</td>\n",
       "      <td>3</td>\n",
       "      <td>630</td>\n",
       "      <td>2.011910e+07</td>\n",
       "      <td>2.052190e+07</td>\n",
       "    </tr>\n",
       "    <tr>\n",
       "      <th>3</th>\n",
       "      <td>1.199969</td>\n",
       "      <td>4</td>\n",
       "      <td>840</td>\n",
       "      <td>2.010188e+07</td>\n",
       "      <td>2.051988e+07</td>\n",
       "    </tr>\n",
       "    <tr>\n",
       "      <th>4</th>\n",
       "      <td>1.509314</td>\n",
       "      <td>5</td>\n",
       "      <td>1050</td>\n",
       "      <td>2.010169e+07</td>\n",
       "      <td>2.052145e+07</td>\n",
       "    </tr>\n",
       "    <tr>\n",
       "      <th>5</th>\n",
       "      <td>1.801739</td>\n",
       "      <td>6</td>\n",
       "      <td>1260</td>\n",
       "      <td>2.009699e+07</td>\n",
       "      <td>2.052620e+07</td>\n",
       "    </tr>\n",
       "    <tr>\n",
       "      <th>6</th>\n",
       "      <td>2.090034</td>\n",
       "      <td>7</td>\n",
       "      <td>1470</td>\n",
       "      <td>2.008382e+07</td>\n",
       "      <td>2.053699e+07</td>\n",
       "    </tr>\n",
       "    <tr>\n",
       "      <th>7</th>\n",
       "      <td>2.386794</td>\n",
       "      <td>8</td>\n",
       "      <td>1680</td>\n",
       "      <td>2.009636e+07</td>\n",
       "      <td>2.052107e+07</td>\n",
       "    </tr>\n",
       "    <tr>\n",
       "      <th>8</th>\n",
       "      <td>2.681978</td>\n",
       "      <td>9</td>\n",
       "      <td>1890</td>\n",
       "      <td>2.009353e+07</td>\n",
       "      <td>2.051975e+07</td>\n",
       "    </tr>\n",
       "    <tr>\n",
       "      <th>9</th>\n",
       "      <td>2.988858</td>\n",
       "      <td>10</td>\n",
       "      <td>2100</td>\n",
       "      <td>2.009153e+07</td>\n",
       "      <td>2.054296e+07</td>\n",
       "    </tr>\n",
       "  </tbody>\n",
       "</table>\n",
       "</div>"
      ],
      "text/plain": [
       "   elapsed_time  epoch  iteration     main/loss  validation/main/loss\n",
       "0      0.305770      1        210  7.143365e+13          1.048299e+09\n",
       "1      0.616040      2        420  1.424199e+08          2.069691e+07\n",
       "2      0.910633      3        630  2.011910e+07          2.052190e+07\n",
       "3      1.199969      4        840  2.010188e+07          2.051988e+07\n",
       "4      1.509314      5       1050  2.010169e+07          2.052145e+07\n",
       "5      1.801739      6       1260  2.009699e+07          2.052620e+07\n",
       "6      2.090034      7       1470  2.008382e+07          2.053699e+07\n",
       "7      2.386794      8       1680  2.009636e+07          2.052107e+07\n",
       "8      2.681978      9       1890  2.009353e+07          2.051975e+07\n",
       "9      2.988858     10       2100  2.009153e+07          2.054296e+07"
      ]
     },
     "execution_count": 35,
     "metadata": {},
     "output_type": "execute_result"
    }
   ],
   "source": [
    "results.head(10)"
   ]
  },
  {
   "cell_type": "code",
   "execution_count": 36,
   "metadata": {},
   "outputs": [
    {
     "data": {
      "text/plain": [
       "<matplotlib.axes._subplots.AxesSubplot at 0xb1dde0ac8>"
      ]
     },
     "execution_count": 36,
     "metadata": {},
     "output_type": "execute_result"
    },
    {
     "data": {
      "image/png": "[encoded data removed]",
      "text/plain": [
       "<matplotlib.figure.Figure at 0xb1de19668>"
      ]
     },
     "metadata": {},
     "output_type": "display_data"
    }
   ],
   "source": [
    "results[['main/loss', 'validation/main/loss']].plot()"
   ]
  },
  {
   "cell_type": "code",
   "execution_count": 37,
   "metadata": {},
   "outputs": [
    {
     "data": {
      "text/plain": [
       "20526757.166666668"
      ]
     },
     "execution_count": 37,
     "metadata": {},
     "output_type": "execute_result"
    }
   ],
   "source": [
    "loss = results['validation/main/loss'].values[-1]\n",
    "loss"
   ]
  },
  {
   "cell_type": "code",
   "execution_count": 38,
   "metadata": {
    "collapsed": true
   },
   "outputs": [],
   "source": [
    "import math"
   ]
  },
  {
   "cell_type": "code",
   "execution_count": 39,
   "metadata": {},
   "outputs": [
    {
     "data": {
      "text/plain": [
       "4530.646440262875"
      ]
     },
     "execution_count": 39,
     "metadata": {},
     "output_type": "execute_result"
    }
   ],
   "source": [
    "math.sqrt(loss)"
   ]
  }
 ],
 "metadata": {
  "kernelspec": {
   "display_name": "Python 3",
   "language": "python",
   "name": "python3"
  },
  "language_info": {
   "codemirror_mode": {
    "name": "ipython",
    "version": 3
   },
   "file_extension": ".py",
   "mimetype": "text/x-python",
   "name": "python",
   "nbconvert_exporter": "python",
   "pygments_lexer": "ipython3",
   "version": "3.6.2"
  }
 },
 "nbformat": 4,
 "nbformat_minor": 2
}
